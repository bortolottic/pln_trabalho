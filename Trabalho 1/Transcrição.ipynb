{
 "cells": [
  {
   "cell_type": "markdown",
   "metadata": {},
   "source": [
    "# Trabalho PLN\n",
    "\n",
    "**Autor:** Carlos Valdir Bortolotti\n",
    "\n",
    "**Data:** 16/04/2024\n",
    "\n",
    "**Objetivo:** Avaliar a performance da transcrição de um audio."
   ]
  },
  {
   "cell_type": "markdown",
   "metadata": {},
   "source": [
    "## Instalar pacotes"
   ]
  },
  {
   "cell_type": "code",
   "execution_count": 1,
   "metadata": {},
   "outputs": [
    {
     "name": "stdout",
     "output_type": "stream",
     "text": [
      "Requirement already satisfied: asttokens==2.4.1 in /mnt/dados/projetos/pln_trabalho/.venv/lib/python3.10/site-packages (from -r ./requirements.txt (line 1)) (2.4.1)\n",
      "Requirement already satisfied: certifi==2024.2.2 in /mnt/dados/projetos/pln_trabalho/.venv/lib/python3.10/site-packages (from -r ./requirements.txt (line 2)) (2024.2.2)\n",
      "Requirement already satisfied: charset-normalizer==3.3.2 in /mnt/dados/projetos/pln_trabalho/.venv/lib/python3.10/site-packages (from -r ./requirements.txt (line 3)) (3.3.2)\n",
      "Requirement already satisfied: comm==0.2.2 in /mnt/dados/projetos/pln_trabalho/.venv/lib/python3.10/site-packages (from -r ./requirements.txt (line 4)) (0.2.2)\n",
      "Requirement already satisfied: debugpy==1.8.1 in /mnt/dados/projetos/pln_trabalho/.venv/lib/python3.10/site-packages (from -r ./requirements.txt (line 5)) (1.8.1)\n",
      "Requirement already satisfied: decorator==5.1.1 in /mnt/dados/projetos/pln_trabalho/.venv/lib/python3.10/site-packages (from -r ./requirements.txt (line 6)) (5.1.1)\n",
      "Requirement already satisfied: exceptiongroup==1.2.1 in /mnt/dados/projetos/pln_trabalho/.venv/lib/python3.10/site-packages (from -r ./requirements.txt (line 7)) (1.2.1)\n",
      "Requirement already satisfied: executing==2.0.1 in /mnt/dados/projetos/pln_trabalho/.venv/lib/python3.10/site-packages (from -r ./requirements.txt (line 8)) (2.0.1)\n",
      "Requirement already satisfied: filelock==3.13.4 in /mnt/dados/projetos/pln_trabalho/.venv/lib/python3.10/site-packages (from -r ./requirements.txt (line 9)) (3.13.4)\n",
      "Requirement already satisfied: fsspec==2024.3.1 in /mnt/dados/projetos/pln_trabalho/.venv/lib/python3.10/site-packages (from -r ./requirements.txt (line 10)) (2024.3.1)\n",
      "Requirement already satisfied: idna==3.7 in /mnt/dados/projetos/pln_trabalho/.venv/lib/python3.10/site-packages (from -r ./requirements.txt (line 11)) (3.7)\n",
      "Requirement already satisfied: ipykernel==6.29.4 in /mnt/dados/projetos/pln_trabalho/.venv/lib/python3.10/site-packages (from -r ./requirements.txt (line 12)) (6.29.4)\n",
      "Requirement already satisfied: ipython==8.23.0 in /mnt/dados/projetos/pln_trabalho/.venv/lib/python3.10/site-packages (from -r ./requirements.txt (line 13)) (8.23.0)\n",
      "Requirement already satisfied: jedi==0.19.1 in /mnt/dados/projetos/pln_trabalho/.venv/lib/python3.10/site-packages (from -r ./requirements.txt (line 14)) (0.19.1)\n",
      "Requirement already satisfied: Jinja2==3.1.3 in /mnt/dados/projetos/pln_trabalho/.venv/lib/python3.10/site-packages (from -r ./requirements.txt (line 15)) (3.1.3)\n",
      "Requirement already satisfied: jupyter_client==8.6.1 in /mnt/dados/projetos/pln_trabalho/.venv/lib/python3.10/site-packages (from -r ./requirements.txt (line 16)) (8.6.1)\n",
      "Requirement already satisfied: jupyter_core==5.7.2 in /mnt/dados/projetos/pln_trabalho/.venv/lib/python3.10/site-packages (from -r ./requirements.txt (line 17)) (5.7.2)\n",
      "Requirement already satisfied: Levenshtein==0.25.1 in /mnt/dados/projetos/pln_trabalho/.venv/lib/python3.10/site-packages (from -r ./requirements.txt (line 18)) (0.25.1)\n",
      "Requirement already satisfied: llvmlite==0.42.0 in /mnt/dados/projetos/pln_trabalho/.venv/lib/python3.10/site-packages (from -r ./requirements.txt (line 19)) (0.42.0)\n",
      "Requirement already satisfied: MarkupSafe==2.1.5 in /mnt/dados/projetos/pln_trabalho/.venv/lib/python3.10/site-packages (from -r ./requirements.txt (line 20)) (2.1.5)\n",
      "Requirement already satisfied: matplotlib-inline==0.1.7 in /mnt/dados/projetos/pln_trabalho/.venv/lib/python3.10/site-packages (from -r ./requirements.txt (line 21)) (0.1.7)\n",
      "Requirement already satisfied: more-itertools==10.2.0 in /mnt/dados/projetos/pln_trabalho/.venv/lib/python3.10/site-packages (from -r ./requirements.txt (line 22)) (10.2.0)\n",
      "Requirement already satisfied: mpmath==1.3.0 in /mnt/dados/projetos/pln_trabalho/.venv/lib/python3.10/site-packages (from -r ./requirements.txt (line 23)) (1.3.0)\n",
      "Requirement already satisfied: nest-asyncio==1.6.0 in /mnt/dados/projetos/pln_trabalho/.venv/lib/python3.10/site-packages (from -r ./requirements.txt (line 24)) (1.6.0)\n",
      "Requirement already satisfied: networkx==3.3 in /mnt/dados/projetos/pln_trabalho/.venv/lib/python3.10/site-packages (from -r ./requirements.txt (line 25)) (3.3)\n",
      "Requirement already satisfied: numba==0.59.1 in /mnt/dados/projetos/pln_trabalho/.venv/lib/python3.10/site-packages (from -r ./requirements.txt (line 26)) (0.59.1)\n",
      "Requirement already satisfied: numpy==1.26.4 in /mnt/dados/projetos/pln_trabalho/.venv/lib/python3.10/site-packages (from -r ./requirements.txt (line 27)) (1.26.4)\n",
      "Requirement already satisfied: nvidia-cublas-cu12==12.1.3.1 in /mnt/dados/projetos/pln_trabalho/.venv/lib/python3.10/site-packages (from -r ./requirements.txt (line 28)) (12.1.3.1)\n",
      "Requirement already satisfied: nvidia-cuda-cupti-cu12==12.1.105 in /mnt/dados/projetos/pln_trabalho/.venv/lib/python3.10/site-packages (from -r ./requirements.txt (line 29)) (12.1.105)\n",
      "Requirement already satisfied: nvidia-cuda-nvrtc-cu12==12.1.105 in /mnt/dados/projetos/pln_trabalho/.venv/lib/python3.10/site-packages (from -r ./requirements.txt (line 30)) (12.1.105)\n",
      "Requirement already satisfied: nvidia-cuda-runtime-cu12==12.1.105 in /mnt/dados/projetos/pln_trabalho/.venv/lib/python3.10/site-packages (from -r ./requirements.txt (line 31)) (12.1.105)\n",
      "Requirement already satisfied: nvidia-cudnn-cu12==8.9.2.26 in /mnt/dados/projetos/pln_trabalho/.venv/lib/python3.10/site-packages (from -r ./requirements.txt (line 32)) (8.9.2.26)\n",
      "Requirement already satisfied: nvidia-cufft-cu12==11.0.2.54 in /mnt/dados/projetos/pln_trabalho/.venv/lib/python3.10/site-packages (from -r ./requirements.txt (line 33)) (11.0.2.54)\n",
      "Requirement already satisfied: nvidia-curand-cu12==10.3.2.106 in /mnt/dados/projetos/pln_trabalho/.venv/lib/python3.10/site-packages (from -r ./requirements.txt (line 34)) (10.3.2.106)\n",
      "Requirement already satisfied: nvidia-cusolver-cu12==11.4.5.107 in /mnt/dados/projetos/pln_trabalho/.venv/lib/python3.10/site-packages (from -r ./requirements.txt (line 35)) (11.4.5.107)\n",
      "Requirement already satisfied: nvidia-cusparse-cu12==12.1.0.106 in /mnt/dados/projetos/pln_trabalho/.venv/lib/python3.10/site-packages (from -r ./requirements.txt (line 36)) (12.1.0.106)\n",
      "Requirement already satisfied: nvidia-nccl-cu12==2.19.3 in /mnt/dados/projetos/pln_trabalho/.venv/lib/python3.10/site-packages (from -r ./requirements.txt (line 37)) (2.19.3)\n",
      "Requirement already satisfied: nvidia-nvjitlink-cu12==12.4.127 in /mnt/dados/projetos/pln_trabalho/.venv/lib/python3.10/site-packages (from -r ./requirements.txt (line 38)) (12.4.127)\n",
      "Requirement already satisfied: nvidia-nvtx-cu12==12.1.105 in /mnt/dados/projetos/pln_trabalho/.venv/lib/python3.10/site-packages (from -r ./requirements.txt (line 39)) (12.1.105)\n",
      "Requirement already satisfied: openai-whisper==20231117 in /mnt/dados/projetos/pln_trabalho/.venv/lib/python3.10/site-packages (from -r ./requirements.txt (line 40)) (20231117)\n",
      "Requirement already satisfied: packaging==24.0 in /mnt/dados/projetos/pln_trabalho/.venv/lib/python3.10/site-packages (from -r ./requirements.txt (line 41)) (24.0)\n",
      "Requirement already satisfied: parso==0.8.4 in /mnt/dados/projetos/pln_trabalho/.venv/lib/python3.10/site-packages (from -r ./requirements.txt (line 42)) (0.8.4)\n",
      "Requirement already satisfied: pexpect==4.9.0 in /mnt/dados/projetos/pln_trabalho/.venv/lib/python3.10/site-packages (from -r ./requirements.txt (line 43)) (4.9.0)\n",
      "Requirement already satisfied: platformdirs==4.2.0 in /mnt/dados/projetos/pln_trabalho/.venv/lib/python3.10/site-packages (from -r ./requirements.txt (line 44)) (4.2.0)\n",
      "Requirement already satisfied: prompt-toolkit==3.0.43 in /mnt/dados/projetos/pln_trabalho/.venv/lib/python3.10/site-packages (from -r ./requirements.txt (line 45)) (3.0.43)\n",
      "Requirement already satisfied: psutil==5.9.8 in /mnt/dados/projetos/pln_trabalho/.venv/lib/python3.10/site-packages (from -r ./requirements.txt (line 46)) (5.9.8)\n",
      "Requirement already satisfied: ptyprocess==0.7.0 in /mnt/dados/projetos/pln_trabalho/.venv/lib/python3.10/site-packages (from -r ./requirements.txt (line 47)) (0.7.0)\n",
      "Requirement already satisfied: pure-eval==0.2.2 in /mnt/dados/projetos/pln_trabalho/.venv/lib/python3.10/site-packages (from -r ./requirements.txt (line 48)) (0.2.2)\n",
      "Requirement already satisfied: pygame==2.5.2 in /mnt/dados/projetos/pln_trabalho/.venv/lib/python3.10/site-packages (from -r ./requirements.txt (line 49)) (2.5.2)\n",
      "Requirement already satisfied: Pygments==2.17.2 in /mnt/dados/projetos/pln_trabalho/.venv/lib/python3.10/site-packages (from -r ./requirements.txt (line 50)) (2.17.2)\n",
      "Requirement already satisfied: python-dateutil==2.9.0.post0 in /mnt/dados/projetos/pln_trabalho/.venv/lib/python3.10/site-packages (from -r ./requirements.txt (line 51)) (2.9.0.post0)\n",
      "Requirement already satisfied: pyzmq==26.0.2 in /mnt/dados/projetos/pln_trabalho/.venv/lib/python3.10/site-packages (from -r ./requirements.txt (line 52)) (26.0.2)\n",
      "Requirement already satisfied: rapidfuzz==3.8.1 in /mnt/dados/projetos/pln_trabalho/.venv/lib/python3.10/site-packages (from -r ./requirements.txt (line 53)) (3.8.1)\n",
      "Requirement already satisfied: regex==2024.4.16 in /mnt/dados/projetos/pln_trabalho/.venv/lib/python3.10/site-packages (from -r ./requirements.txt (line 54)) (2024.4.16)\n",
      "Requirement already satisfied: requests==2.31.0 in /mnt/dados/projetos/pln_trabalho/.venv/lib/python3.10/site-packages (from -r ./requirements.txt (line 55)) (2.31.0)\n",
      "Requirement already satisfied: six==1.16.0 in /mnt/dados/projetos/pln_trabalho/.venv/lib/python3.10/site-packages (from -r ./requirements.txt (line 56)) (1.16.0)\n",
      "Requirement already satisfied: stack-data==0.6.3 in /mnt/dados/projetos/pln_trabalho/.venv/lib/python3.10/site-packages (from -r ./requirements.txt (line 57)) (0.6.3)\n",
      "Requirement already satisfied: sympy==1.12 in /mnt/dados/projetos/pln_trabalho/.venv/lib/python3.10/site-packages (from -r ./requirements.txt (line 58)) (1.12)\n",
      "Requirement already satisfied: tiktoken==0.6.0 in /mnt/dados/projetos/pln_trabalho/.venv/lib/python3.10/site-packages (from -r ./requirements.txt (line 59)) (0.6.0)\n",
      "Requirement already satisfied: torch==2.2.2 in /mnt/dados/projetos/pln_trabalho/.venv/lib/python3.10/site-packages (from -r ./requirements.txt (line 60)) (2.2.2)\n",
      "Requirement already satisfied: tornado==6.4 in /mnt/dados/projetos/pln_trabalho/.venv/lib/python3.10/site-packages (from -r ./requirements.txt (line 61)) (6.4)\n",
      "Requirement already satisfied: tqdm==4.66.2 in /mnt/dados/projetos/pln_trabalho/.venv/lib/python3.10/site-packages (from -r ./requirements.txt (line 62)) (4.66.2)\n",
      "Requirement already satisfied: traitlets==5.14.3 in /mnt/dados/projetos/pln_trabalho/.venv/lib/python3.10/site-packages (from -r ./requirements.txt (line 63)) (5.14.3)\n",
      "Requirement already satisfied: triton==2.2.0 in /mnt/dados/projetos/pln_trabalho/.venv/lib/python3.10/site-packages (from -r ./requirements.txt (line 64)) (2.2.0)\n",
      "Requirement already satisfied: typing_extensions==4.11.0 in /mnt/dados/projetos/pln_trabalho/.venv/lib/python3.10/site-packages (from -r ./requirements.txt (line 65)) (4.11.0)\n",
      "Requirement already satisfied: urllib3==2.2.1 in /mnt/dados/projetos/pln_trabalho/.venv/lib/python3.10/site-packages (from -r ./requirements.txt (line 66)) (2.2.1)\n",
      "Requirement already satisfied: wcwidth==0.2.13 in /mnt/dados/projetos/pln_trabalho/.venv/lib/python3.10/site-packages (from -r ./requirements.txt (line 67)) (0.2.13)\n"
     ]
    }
   ],
   "source": [
    "!pip install -r ./requirements.txt"
   ]
  },
  {
   "cell_type": "code",
   "execution_count": 25,
   "metadata": {},
   "outputs": [],
   "source": [
    "!pip freeze > ./requirements.txt"
   ]
  },
  {
   "cell_type": "code",
   "execution_count": 24,
   "metadata": {},
   "outputs": [
    {
     "name": "stdout",
     "output_type": "stream",
     "text": [
      "Collecting gtts\n",
      "  Downloading gTTS-2.5.1-py3-none-any.whl.metadata (4.1 kB)\n",
      "Requirement already satisfied: requests<3,>=2.27 in /mnt/dados/projetos/pln_trabalho/.venv/lib/python3.10/site-packages (from gtts) (2.31.0)\n",
      "Collecting click<8.2,>=7.1 (from gtts)\n",
      "  Downloading click-8.1.7-py3-none-any.whl.metadata (3.0 kB)\n",
      "Requirement already satisfied: charset-normalizer<4,>=2 in /mnt/dados/projetos/pln_trabalho/.venv/lib/python3.10/site-packages (from requests<3,>=2.27->gtts) (3.3.2)\n",
      "Requirement already satisfied: idna<4,>=2.5 in /mnt/dados/projetos/pln_trabalho/.venv/lib/python3.10/site-packages (from requests<3,>=2.27->gtts) (3.7)\n",
      "Requirement already satisfied: urllib3<3,>=1.21.1 in /mnt/dados/projetos/pln_trabalho/.venv/lib/python3.10/site-packages (from requests<3,>=2.27->gtts) (2.2.1)\n",
      "Requirement already satisfied: certifi>=2017.4.17 in /mnt/dados/projetos/pln_trabalho/.venv/lib/python3.10/site-packages (from requests<3,>=2.27->gtts) (2024.2.2)\n",
      "Downloading gTTS-2.5.1-py3-none-any.whl (29 kB)\n",
      "Downloading click-8.1.7-py3-none-any.whl (97 kB)\n",
      "\u001b[2K   \u001b[90m━━━━━━━━━━━━━━━━━━━━━━━━━━━━━━━━━━━━━━━━\u001b[0m \u001b[32m97.9/97.9 kB\u001b[0m \u001b[31m808.3 kB/s\u001b[0m eta \u001b[36m0:00:00\u001b[0ma \u001b[36m0:00:01\u001b[0m\n",
      "\u001b[?25hInstalling collected packages: click, gtts\n",
      "Successfully installed click-8.1.7 gtts-2.5.1\n"
     ]
    }
   ],
   "source": [
    "!pip install gtts"
   ]
  },
  {
   "cell_type": "markdown",
   "metadata": {},
   "source": [
    "## Importar Bibliotecas necessárias"
   ]
  },
  {
   "cell_type": "code",
   "execution_count": 26,
   "metadata": {},
   "outputs": [],
   "source": [
    "import os\n",
    "import whisper as wr\n",
    "import pygame as pg\n",
    "import Levenshtein as lev\n",
    "from gtts import gTTS"
   ]
  },
  {
   "cell_type": "markdown",
   "metadata": {},
   "source": [
    "## Limpar pastas de saída"
   ]
  },
  {
   "cell_type": "code",
   "execution_count": 13,
   "metadata": {},
   "outputs": [
    {
     "name": "stdout",
     "output_type": "stream",
     "text": [
      "rm: cannot remove './output': No such file or directory\n"
     ]
    }
   ],
   "source": [
    "!rm ./output -r"
   ]
  },
  {
   "cell_type": "markdown",
   "metadata": {},
   "source": [
    "## Funções"
   ]
  },
  {
   "cell_type": "code",
   "execution_count": 30,
   "metadata": {},
   "outputs": [],
   "source": [
    "def transcribe_audio(type_model,file_path):\n",
    "    model = wr.load_model(type_model)\n",
    "    transcription = model.transcribe(file_path)\n",
    "    print(\"Transcrição: \", transcription[\"text\"])\n",
    "    return transcription[\"text\"]\n",
    "\n",
    "def compare_texts(original_text, transcribed_text):\n",
    "    distance = lev.distance(original_text, transcribed_text)\n",
    "    max_distance = max(len(original_text), len(transcribed_text))\n",
    "    #similarity = (1 - distance / max_distance) * 100\n",
    "    similarity = (max_distance - distance) / max_distance * 100\n",
    "    print(f\"Similaridade: {similarity:.2f}%\")\n",
    "\n",
    "\n",
    "def search_term_in_text(text, term):\n",
    "    sentences = text.split('.')\n",
    "    matches = [sentence.strip() + '.' for sentence in sentences if term.lower() in sentence.lower()]\n",
    "    print(\"Frase(s) contendo o termo:\", matches)\n",
    "    return matches\n",
    "\n",
    "def text_to_speech(phrase, term,index, lang='pt', tld='com.br'):\n",
    "    speech = gTTS(text=phrase, lang=lang, tld=tld, slow=False)\n",
    "    filename = f\"output_{term}_{index}.mp3\"\n",
    "    speech.save(filename)\n",
    "\n",
    "def play_audio(prefix='output', directory='.'):\n",
    "    pg.mixer.init()\n",
    "    files = os.listdir(directory)\n",
    "    audio_files = [file for file in files if file.startswith(prefix) and file.endswith('.mp3')]\n",
    "    \n",
    "    for file in audio_files:\n",
    "        file_path = os.path.join(directory, file)\n",
    "        print(f\"Tocando {file}...\")\n",
    "        pg.mixer.music.load(file_path)\n",
    "        pg.mixer.music.play()\n",
    "       \n",
    "        while pg.mixer.music.get_busy():\n",
    "            pg.time.Clock().tick(10)\n",
    "       \n",
    "    pg.mixer.quit()\n",
    "    print(\"Todos os arquivos foram tocados\")        \n"
   ]
  },
  {
   "cell_type": "markdown",
   "metadata": {},
   "source": []
  },
  {
   "cell_type": "code",
   "execution_count": 42,
   "metadata": {},
   "outputs": [],
   "source": [
    "audio_file_path = './Joao_garrafa.wav'\n",
    "model = \"small\"\n",
    "\n",
    "with open(\"./Joao_garrafa_original.txt\", \"rt\") as f:\n",
    "    original_text = \"\".join(f.readlines())"
   ]
  },
  {
   "cell_type": "code",
   "execution_count": 39,
   "metadata": {},
   "outputs": [
    {
     "name": "stdout",
     "output_type": "stream",
     "text": [
      "Transcrição:   Numa manhã ensolarada, João decidiu ir à praia para aproveitar o belo dia. Enquanto caminhava pela ola, observando as ondas quebrarem suavemente na areia, notou algo brilhante ao longe. Movido pela curiosidade, ele se aproximou e descobriu que se tratava de uma pequena garrafa com a mensagem dentro. Ele abriu com cuidado, ansioso para descobrir o segredo que estava aguardado há anos no coração do oceano. A mensagem estava um pouco desbotada, mas ainda era possível ler. Quem encontrar esta mensagem saiba que a vida é uma aventura maravilhosa. Viva plenamente e busque seus sonhos. João, inspirado pelas palavras, decidiu naquele momento fazer uma viagem que sempre adiou. Sentindo-se grato por esse encontro fortuito ter renovado seu espírito aventureiro.\n"
     ]
    }
   ],
   "source": [
    "# Transcrever audio\n",
    "transcribed_text = transcribe_audio(model,audio_file_path)"
   ]
  },
  {
   "cell_type": "code",
   "execution_count": 44,
   "metadata": {},
   "outputs": [
    {
     "name": "stdout",
     "output_type": "stream",
     "text": [
      "Similaridade: 98.05%\n"
     ]
    }
   ],
   "source": [
    "# Comparar transcrição\n",
    "compare_texts(original_text, transcribed_text)"
   ]
  },
  {
   "cell_type": "code",
   "execution_count": 45,
   "metadata": {},
   "outputs": [
    {
     "name": "stdout",
     "output_type": "stream",
     "text": [
      "Frase(s) contendo o termo: ['Numa manhã ensolarada, João decidiu ir à praia para aproveitar o belo dia.', 'João, inspirado pelas palavras, decidiu naquele momento fazer uma viagem que sempre adiou.']\n"
     ]
    }
   ],
   "source": [
    "# Procura o termo dentro do texto. \n",
    "term = \"João\"\n",
    "phrases_found = search_term_in_text(transcribed_text, term)"
   ]
  },
  {
   "cell_type": "code",
   "execution_count": 46,
   "metadata": {},
   "outputs": [],
   "source": [
    "# Converte as frases encontradas em audio\n",
    "index = 1\n",
    "for sentence in phrases_found:\n",
    "    text_to_speech(sentence,term,index)\n",
    "    index += 1"
   ]
  },
  {
   "cell_type": "code",
   "execution_count": 29,
   "metadata": {},
   "outputs": [
    {
     "name": "stdout",
     "output_type": "stream",
     "text": [
      "Tocando output_João_1.mp3...\n",
      "Tocando output_João_2.mp3...\n",
      "Todos os arquivos foram tocados\n"
     ]
    }
   ],
   "source": [
    "# Fala as Frases encontradas com referencia ao termo pesquisado\n",
    "\n",
    "play_audio()\n"
   ]
  },
  {
   "cell_type": "code",
   "execution_count": null,
   "metadata": {},
   "outputs": [],
   "source": []
  }
 ],
 "metadata": {
  "kernelspec": {
   "display_name": "Python 3",
   "language": "python",
   "name": "python3"
  },
  "language_info": {
   "codemirror_mode": {
    "name": "ipython",
    "version": 3
   },
   "file_extension": ".py",
   "mimetype": "text/x-python",
   "name": "python",
   "nbconvert_exporter": "python",
   "pygments_lexer": "ipython3",
   "version": "3.10.12"
  }
 },
 "nbformat": 4,
 "nbformat_minor": 2
}
