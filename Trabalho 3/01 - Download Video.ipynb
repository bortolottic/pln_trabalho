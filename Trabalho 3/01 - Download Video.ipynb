{
 "cells": [
  {
   "cell_type": "markdown",
   "metadata": {},
   "source": [
    "# 01 - Download Vídeo\n",
    "\n",
    "    O objetivo deste notebook é baixar um vídeo do youtube para utilizar como base de dados para a transcrição e utilização com o bot."
   ]
  },
  {
   "cell_type": "markdown",
   "metadata": {},
   "source": [
    "## Instalando dependências"
   ]
  },
  {
   "cell_type": "code",
   "execution_count": 1,
   "metadata": {},
   "outputs": [
    {
     "name": "stdout",
     "output_type": "stream",
     "text": [
      "Collecting yt-dlp\n",
      "  Downloading yt_dlp-2024.4.9-py3-none-any.whl.metadata (165 kB)\n",
      "\u001b[2K     \u001b[90m━━━━━━━━━━━━━━━━━━━━━━━━━━━━━━━━━━━━━━━\u001b[0m \u001b[32m166.0/166.0 kB\u001b[0m \u001b[31m2.2 MB/s\u001b[0m eta \u001b[36m0:00:00\u001b[0m00:01\u001b[0m00:01\u001b[0m\n",
      "\u001b[?25hCollecting brotli (from yt-dlp)\n",
      "  Downloading Brotli-1.1.0-cp310-cp310-manylinux_2_5_x86_64.manylinux1_x86_64.manylinux_2_12_x86_64.manylinux2010_x86_64.whl.metadata (5.5 kB)\n",
      "Requirement already satisfied: certifi in /mnt/dados/projetos/pln_trabalho/.venv/lib/python3.10/site-packages (from yt-dlp) (2024.2.2)\n",
      "Collecting mutagen (from yt-dlp)\n",
      "  Downloading mutagen-1.47.0-py3-none-any.whl.metadata (1.7 kB)\n",
      "Collecting pycryptodomex (from yt-dlp)\n",
      "  Downloading pycryptodomex-3.20.0-cp35-abi3-manylinux_2_17_x86_64.manylinux2014_x86_64.whl.metadata (3.4 kB)\n",
      "Requirement already satisfied: requests<3,>=2.31.0 in /mnt/dados/projetos/pln_trabalho/.venv/lib/python3.10/site-packages (from yt-dlp) (2.31.0)\n",
      "Requirement already satisfied: urllib3<3,>=1.26.17 in /mnt/dados/projetos/pln_trabalho/.venv/lib/python3.10/site-packages (from yt-dlp) (2.2.1)\n",
      "Collecting websockets>=12.0 (from yt-dlp)\n",
      "  Downloading websockets-12.0-cp310-cp310-manylinux_2_5_x86_64.manylinux1_x86_64.manylinux_2_17_x86_64.manylinux2014_x86_64.whl.metadata (6.6 kB)\n",
      "Requirement already satisfied: charset-normalizer<4,>=2 in /mnt/dados/projetos/pln_trabalho/.venv/lib/python3.10/site-packages (from requests<3,>=2.31.0->yt-dlp) (3.3.2)\n",
      "Requirement already satisfied: idna<4,>=2.5 in /mnt/dados/projetos/pln_trabalho/.venv/lib/python3.10/site-packages (from requests<3,>=2.31.0->yt-dlp) (3.7)\n",
      "Downloading yt_dlp-2024.4.9-py3-none-any.whl (3.1 MB)\n",
      "\u001b[2K   \u001b[90m━━━━━━━━━━━━━━━━━━━━━━━━━━━━━━━━━━━━━━━━\u001b[0m \u001b[32m3.1/3.1 MB\u001b[0m \u001b[31m3.4 MB/s\u001b[0m eta \u001b[36m0:00:00\u001b[0m00:01\u001b[0m00:01\u001b[0m\n",
      "\u001b[?25hDownloading websockets-12.0-cp310-cp310-manylinux_2_5_x86_64.manylinux1_x86_64.manylinux_2_17_x86_64.manylinux2014_x86_64.whl (130 kB)\n",
      "\u001b[2K   \u001b[90m━━━━━━━━━━━━━━━━━━━━━━━━━━━━━━━━━━━━━━━━\u001b[0m \u001b[32m130.2/130.2 kB\u001b[0m \u001b[31m2.8 MB/s\u001b[0m eta \u001b[36m0:00:00\u001b[0ma \u001b[36m0:00:01\u001b[0m\n",
      "\u001b[?25hDownloading Brotli-1.1.0-cp310-cp310-manylinux_2_5_x86_64.manylinux1_x86_64.manylinux_2_12_x86_64.manylinux2010_x86_64.whl (3.0 MB)\n",
      "\u001b[2K   \u001b[90m━━━━━━━━━━━━━━━━━━━━━━━━━━━━━━━━━━━━━━━━\u001b[0m \u001b[32m3.0/3.0 MB\u001b[0m \u001b[31m3.4 MB/s\u001b[0m eta \u001b[36m0:00:00\u001b[0m00:01\u001b[0m00:01\u001b[0m\n",
      "\u001b[?25hDownloading mutagen-1.47.0-py3-none-any.whl (194 kB)\n",
      "\u001b[2K   \u001b[90m━━━━━━━━━━━━━━━━━━━━━━━━━━━━━━━━━━━━━━━━\u001b[0m \u001b[32m194.4/194.4 kB\u001b[0m \u001b[31m3.4 MB/s\u001b[0m eta \u001b[36m0:00:00\u001b[0ma \u001b[36m0:00:01\u001b[0m\n",
      "\u001b[?25hDownloading pycryptodomex-3.20.0-cp35-abi3-manylinux_2_17_x86_64.manylinux2014_x86_64.whl (2.1 MB)\n",
      "\u001b[2K   \u001b[90m━━━━━━━━━━━━━━━━━━━━━━━━━━━━━━━━━━━━━━━━\u001b[0m \u001b[32m2.1/2.1 MB\u001b[0m \u001b[31m3.2 MB/s\u001b[0m eta \u001b[36m0:00:00\u001b[0m00:01\u001b[0m00:01\u001b[0m\n",
      "\u001b[?25hInstalling collected packages: brotli, websockets, pycryptodomex, mutagen, yt-dlp\n",
      "Successfully installed brotli-1.1.0 mutagen-1.47.0 pycryptodomex-3.20.0 websockets-12.0 yt-dlp-2024.4.9\n"
     ]
    }
   ],
   "source": [
    "!pip install -U yt-dlp"
   ]
  },
  {
   "cell_type": "code",
   "execution_count": 5,
   "metadata": {},
   "outputs": [],
   "source": [
    "!wget -O - -q  https://github.com/yt-dlp/FFmpeg-Builds/releases/download/latest/ffmpeg-master-latest-linux64-gpl.tar.xz | xz -qdc| tar -x"
   ]
  },
  {
   "cell_type": "code",
   "execution_count": 2,
   "metadata": {},
   "outputs": [],
   "source": [
    "video_id = 'DlgN41V5SVk'\n",
    "video_url = 'https://youtu.be/' + video_id"
   ]
  },
  {
   "cell_type": "code",
   "execution_count": 3,
   "metadata": {},
   "outputs": [
    {
     "name": "stdout",
     "output_type": "stream",
     "text": [
      "[youtube] Extracting URL: https://youtu.be/DlgN41V5SVk\n",
      "[youtube] DlgN41V5SVk: Downloading webpage\n",
      "[youtube] DlgN41V5SVk: Downloading ios player API JSON\n",
      "[youtube] DlgN41V5SVk: Downloading android player API JSON\n"
     ]
    },
    {
     "name": "stderr",
     "output_type": "stream",
     "text": [
      "WARNING: [youtube] Skipping player responses from android clients (got player responses for video \"aQvGIIdgFDM\" instead of \"DlgN41V5SVk\")\n"
     ]
    },
    {
     "name": "stdout",
     "output_type": "stream",
     "text": [
      "[youtube] DlgN41V5SVk: Downloading player 5d0dbf62\n",
      "[youtube] DlgN41V5SVk: Downloading m3u8 information\n",
      "Title: EVOLUÇÃO das INTELIGÊNCIAS ARTIFICIAIS\n"
     ]
    }
   ],
   "source": [
    "from yt_dlp import YoutubeDL\n",
    "\n",
    "with YoutubeDL() as ydl: \n",
    "  info_dict = ydl.extract_info(video_url, download=False)\n",
    "  video_title = info_dict.get('title', None)\n",
    "  print(\"Title: \" + video_title)\n"
   ]
  },
  {
   "cell_type": "code",
   "execution_count": 8,
   "metadata": {},
   "outputs": [
    {
     "name": "stdout",
     "output_type": "stream",
     "text": [
      "[debug] Command-line config: ['-xv', '--ffmpeg-location', 'ffmpeg-master-latest-linux64-gpl/bin', '--audio-format', 'wav', '-o', 'youtube.wav', '--', 'https://youtu.be/DlgN41V5SVk']\n",
      "[debug] Encodings: locale UTF-8, fs utf-8, pref UTF-8, out utf-8, error utf-8, screen utf-8\n",
      "[debug] yt-dlp version stable@2024.04.09 from yt-dlp/yt-dlp [ff0779267] (pip)\n",
      "[debug] Python 3.10.12 (CPython x86_64 64bit) - Linux-5.15.0-105-generic-x86_64-with-glibc2.35 (OpenSSL 3.0.2 15 Mar 2022, glibc 2.35)\n",
      "[debug] exe versions: ffmpeg N-115041-ge757726e89-20240501 (setts), ffprobe N-115041-ge757726e89-20240501\n",
      "[debug] Optional libraries: Cryptodome-3.20.0, brotli-1.1.0, certifi-2024.02.02, mutagen-1.47.0, requests-2.31.0, sqlite3-3.37.2, urllib3-2.2.1, websockets-12.0\n",
      "[debug] Proxy map: {}\n",
      "[debug] Request Handlers: urllib, requests, websockets\n",
      "[debug] Loaded 1810 extractors\n",
      "[youtube] Extracting URL: https://youtu.be/DlgN41V5SVk\n",
      "[youtube] DlgN41V5SVk: Downloading webpage\n",
      "[youtube] DlgN41V5SVk: Downloading ios player API JSON\n",
      "[youtube] DlgN41V5SVk: Downloading android player API JSON\n",
      "\u001b[0;33mWARNING:\u001b[0m [youtube] Skipping player responses from android clients (got player responses for video \"aQvGIIdgFDM\" instead of \"DlgN41V5SVk\")\n",
      "[debug] Loading youtube-nsig.5d0dbf62 from cache\n",
      "[debug] [youtube] Decrypted nsig FBa23FJpMZqiICiLdj => UBwNtmEXU6cIUQ\n",
      "[debug] Loading youtube-nsig.5d0dbf62 from cache\n",
      "[debug] [youtube] Decrypted nsig IHoDPNoOVhojgjXviV => gABxRGV6Xnva0w\n",
      "[youtube] DlgN41V5SVk: Downloading m3u8 information\n",
      "[debug] Sort order given by extractor: quality, res, fps, hdr:12, source, vcodec:vp9.2, channels, acodec, lang, proto\n",
      "[debug] Formats sorted by: hasvid, ie_pref, quality, res, fps, hdr:12(7), source, vcodec:vp9.2(10), channels, acodec, lang, proto, size, br, asr, vext, aext, hasaud, id\n",
      "[info] DlgN41V5SVk: Downloading 1 format(s): 251\n",
      "[debug] Invoking http downloader on \"https://rr3---sn-u25-o8u6.googlevideo.com/videoplayback?expire=1714600677&ei=hWYyZvtDupjWxA-3yIOoDg&ip=2804%3A30c%3A1d5f%3Ade00%3Ab730%3Aa518%3A6da7%3Aae63&id=o-AGZPKbinO8k8F3HvDbhf4UR8YbT3AnTYq7ujfAS6H90i&itag=251&source=youtube&requiressl=yes&xpc=EgVo2aDSNQ%3D%3D&mh=DQ&mm=31%2C29&mn=sn-u25-o8u6%2Csn-bg0eznsr&ms=au%2Crdu&mv=m&mvi=3&pl=40&initcwndbps=1025000&bui=AWRWj2Qv7C6kKZu7gO0jVDdD9ZteT-njBgsvHNJbNI-w4pIjfKa_WMACMkIslRTGoxU0biSUVO8-umxS&spc=UWF9fziNIBDNKmxHYEQ6otrOsdxOsubVKAVIIsVeOfz26YWrb5Q2McCfwTjA&vprv=1&svpuc=1&mime=audio%2Fwebm&ns=AfzmyiBtQ9O2OdTps67VhNMQ&gir=yes&clen=13855340&dur=991.901&lmt=1688017900954344&mt=1714578792&fvip=3&keepalive=yes&c=WEB&sefc=1&txp=5532434&n=gABxRGV6Xnva0w&sparams=expire%2Cei%2Cip%2Cid%2Citag%2Csource%2Crequiressl%2Cxpc%2Cbui%2Cspc%2Cvprv%2Csvpuc%2Cmime%2Cns%2Cgir%2Cclen%2Cdur%2Clmt&sig=AJfQdSswRgIhAKHJ2NxpNcU6OGHeMEzR123-x-ssh2kAy4rcAW3NTneTAiEAzENhMveS7e9I0xXeZnqWHYNRXWqyz-DGDSbq5qYX24Q%3D&lsparams=mh%2Cmm%2Cmn%2Cms%2Cmv%2Cmvi%2Cpl%2Cinitcwndbps&lsig=AHWaYeowRgIhAKPHpOlannzeVlzhIAZvHN2bT5zAbUn6HbvZ2Rs5XFdOAiEAleRFoABVMSVuINEqAb2-5ldDGYA8jycXes_9gxp1U5c%3D\"\n",
      "[download] youtube.webm has already been downloaded\n",
      "\u001b[K[download] 100% of   13.21MiB\n",
      "[debug] ffmpeg command line: ffmpeg-master-latest-linux64-gpl/bin/ffprobe -show_streams file:youtube.webm\n",
      "[ExtractAudio] Destination: youtube.wav\n",
      "[debug] ffmpeg command line: ffmpeg-master-latest-linux64-gpl/bin/ffmpeg -y -loglevel repeat+info -i file:youtube.webm -vn -movflags +faststart file:youtube.wav\n",
      "Deleting original file youtube.webm (pass -k to keep)\n"
     ]
    }
   ],
   "source": [
    "!yt-dlp -xv --ffmpeg-location ffmpeg-master-latest-linux64-gpl/bin --audio-format wav  -o youtube.wav -- {video_url}"
   ]
  },
  {
   "cell_type": "code",
   "execution_count": 9,
   "metadata": {},
   "outputs": [
    {
     "name": "stdout",
     "output_type": "stream",
     "text": [
      "'01 - Download Video.ipynb'   ffmpeg-master-latest-linux64-gpl\t youtube.wav\n",
      " bot\t\t\t      requirements.txt\n"
     ]
    }
   ],
   "source": [
    "!ls"
   ]
  },
  {
   "cell_type": "code",
   "execution_count": null,
   "metadata": {},
   "outputs": [],
   "source": []
  }
 ],
 "metadata": {
  "kernelspec": {
   "display_name": ".venv",
   "language": "python",
   "name": "python3"
  },
  "language_info": {
   "codemirror_mode": {
    "name": "ipython",
    "version": 3
   },
   "file_extension": ".py",
   "mimetype": "text/x-python",
   "name": "python",
   "nbconvert_exporter": "python",
   "pygments_lexer": "ipython3",
   "version": "3.10.12"
  }
 },
 "nbformat": 4,
 "nbformat_minor": 2
}
