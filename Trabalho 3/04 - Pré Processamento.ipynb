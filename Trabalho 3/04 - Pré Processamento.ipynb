{
 "cells": [
  {
   "cell_type": "markdown",
   "metadata": {},
   "source": [
    "# 04 - Pré-Processamento\n",
    "\n",
    "    O objetivo deste pré-processamento é gerar a base de consulta do Bot."
   ]
  },
  {
   "cell_type": "markdown",
   "metadata": {},
   "source": [
    "## Importação das bibliotecas"
   ]
  },
  {
   "cell_type": "code",
   "execution_count": null,
   "metadata": {},
   "outputs": [],
   "source": [
    "import pickle as pkl\n",
    "import whisper as wr\n",
    "from collections import Counter\n",
    "from math import ceil, floor\n",
    "import re"
   ]
  },
  {
   "cell_type": "markdown",
   "metadata": {},
   "source": [
    "## Criação de métodos"
   ]
  },
  {
   "cell_type": "code",
   "execution_count": null,
   "metadata": {},
   "outputs": [],
   "source": [
    "def load_diarization():\n",
    "    with open('./bot/data/diarization.pkl', '+rb') as file:\n",
    "        r = pkl.load(file)\n",
    "    return r\n",
    "\n",
    "def load_transcription():\n",
    "    with open('./bot/data/transcription.pkl', '+rb') as file:\n",
    "        r = pkl.load(file)\n",
    "    return r\n",
    "\n",
    "def format_time(seconds) -> str:\n",
    "    h = seconds // 3600\n",
    "    m = (seconds % 3600) // 60\n",
    "    s = seconds % 60\n",
    "    return(f'{h:02d}:{m:02d}:{s:02d}')\n",
    "\n",
    "def format_text(text : str) -> str:\n",
    "    text = text.lower()\n",
    "    text = re.sub(r'\\[[0-9]*\\]', ' ', text)\n",
    "    text = re.sub(r'\\s+', ' ', text)\n",
    "    return text"
   ]
  },
  {
   "cell_type": "markdown",
   "metadata": {},
   "source": [
    "## Carregar os dados"
   ]
  },
  {
   "cell_type": "code",
   "execution_count": null,
   "metadata": {},
   "outputs": [],
   "source": [
    "diarization = load_diarization()\n",
    "transcription = load_transcription()"
   ]
  },
  {
   "cell_type": "markdown",
   "metadata": {},
   "source": [
    "## Gerar o arquivo de dados"
   ]
  },
  {
   "cell_type": "code",
   "execution_count": null,
   "metadata": {},
   "outputs": [],
   "source": [
    "text_formatted = \"\"\n",
    "text_original = \"\"\n",
    "text_data = []\n",
    "\n",
    "for segment in transcription[\"segments\"]:\n",
    "    start, end = ceil(segment.get(\"start\")), floor(segment.get(\"end\"))\n",
    "    if end <= start:\n",
    "        end = start + 1\n",
    "    speakers = diarization[\"diarization\"][start:end]\n",
    "    speaker = diarization[\"labels\"].get(Counter(speakers).most_common(1)[0][0])\n",
    "    text_segment_original = format_text(segment[\"text\"].strip())\n",
    "    text_segment_formatted = \" \".join([\"[\", format_time(start), \"-\", format_time(end), \"]\", speaker.strip(), \":\", text_segment_original.strip()])\n",
    "    \n",
    "    text_original += (text_segment_original.strip() + \"\\n\")\n",
    "    text_formatted += (text_segment_formatted.strip() + \"\\n\")\n",
    "    text_data.append({ \"start\": start, \"end\": end, \"speaker\": speaker, \"text_original\": text_segment_original, \"text_formatted\": text_segment_formatted })\n",
    "    \n",
    "dataset = {\n",
    "    \"text_original\": text_original,\n",
    "    \"text_formatted\": text_formatted,\n",
    "    \"segment_data\": text_data\n",
    "}\n"
   ]
  },
  {
   "cell_type": "markdown",
   "metadata": {},
   "source": [
    "## Persistir os dados para consumo"
   ]
  },
  {
   "cell_type": "code",
   "execution_count": null,
   "metadata": {},
   "outputs": [],
   "source": [
    "import pickle as pkl\n",
    "\n",
    "with open('./bot/data/dataset.pkl', '+wb') as file:\n",
    "    pkl.dump(dataset, file)"
   ]
  }
 ],
 "metadata": {
  "kernelspec": {
   "display_name": ".venv",
   "language": "python",
   "name": "python3"
  },
  "language_info": {
   "codemirror_mode": {
    "name": "ipython",
    "version": 3
   },
   "file_extension": ".py",
   "mimetype": "text/x-python",
   "name": "python",
   "nbconvert_exporter": "python",
   "pygments_lexer": "ipython3",
   "version": "3.10.12"
  }
 },
 "nbformat": 4,
 "nbformat_minor": 2
}
