{
 "cells": [
  {
   "cell_type": "markdown",
   "metadata": {},
   "source": [
    "# 03 - Transcrição\n",
    "\n",
    "    O objetivo deste pré-processamento é gerar a transcrição do audio."
   ]
  },
  {
   "cell_type": "code",
   "execution_count": 1,
   "metadata": {},
   "outputs": [
    {
     "name": "stdout",
     "output_type": "stream",
     "text": [
      "pygame 2.5.2 (SDL 2.28.2, Python 3.10.12)\n",
      "Hello from the pygame community. https://www.pygame.org/contribute.html\n"
     ]
    }
   ],
   "source": [
    "import os\n",
    "import whisper as wr\n",
    "import pygame as pg\n",
    "import Levenshtein as lev\n",
    "from gtts import gTTS"
   ]
  },
  {
   "cell_type": "markdown",
   "metadata": {},
   "source": [
    "## Criação de métodos"
   ]
  },
  {
   "cell_type": "code",
   "execution_count": 4,
   "metadata": {},
   "outputs": [],
   "source": [
    "def transcribe_audio(type_model,file_path):\n",
    "    model = wr.load_model(type_model)\n",
    "    transcription = model.transcribe(file_path)\n",
    "    print(\"Transcrição: \", transcription[\"text\"])\n",
    "    return transcription"
   ]
  },
  {
   "cell_type": "code",
   "execution_count": 5,
   "metadata": {},
   "outputs": [],
   "source": [
    "audio_file_path = './audio.wav'\n",
    "model = \"small\""
   ]
  },
  {
   "cell_type": "markdown",
   "metadata": {},
   "source": [
    "## Gerar a transcrição"
   ]
  },
  {
   "cell_type": "code",
   "execution_count": 6,
   "metadata": {},
   "outputs": [
    {
     "name": "stdout",
     "output_type": "stream",
     "text": [
      "Transcrição:   Eu queria até jogar uma pergunta para o Castanhari para levantar a bola, porque eu acho que é muito de... O conceito básico, assim, de entender o que é inteligência artificial já pega a gente. Eu demorei muito para... Só quando o Castanhari me foi me explicar e foi me mandar essas referências, eu fui assistir, quando você começa a entender sobre esse processo de redes neurais e sobre como ela se desenvolve, aí você começa a entender que é muito análogo a uma inteligência como a nossa. A comparação desse primeiro cara que o Castanhari disse, o ou, é que como se a nossa inteligência fosse base, assim, de carbono, a gente é feito de carne, moléculas e tal, moléculas de carbono e outros elementos, e a do computador é silício, mas o processo que ela usa para resolver problemas é igual ao nosso, é inteligência de verdade, não é? Quando a gente pensa em robô fazendo uma tarefa, a gente pensa que foi só um ser humano que programou, mas inteligência artificial é outra questão, entendeu? Ele tem autonomia. É, uma autonomia até o momento controlada, monitorada. O problema é que a gente está monitorando agora, como se estivesse monitorando ratinhos no laboratório. A questão é que essa coisa evolui tanto. Vocês vão virar uns dinossauros, explodias. É, daqui a pouco você vai tentar controlar no laboratório, Deus, e aí não vai dar, entendeu? Mas o que mudou, né? O que aconteceu que até há pouco tempo atrás, ah, a inteligência artificial é legal, e agora o que mudou? Antes. Capitalismo, Castanhari. A gente vai chegar, né? Vê, a gente vai chegar nisso aí. Isso é uma parte muito importante, mas a gente vai chegar nisso. Antes, o que que aconteceu? A gente tinha várias inteligências artificiais que eram muito boas em tarefas específicas. Então, assim, você tinha inteligência lá que era muito boa em criar imagem. Você tinha inteligência que era muito boa em criar áudio. Você tinha inteligência que era muito boa em... Fazer roteiro. É, em roteiro. Então, elas eram especializadas em coisas específicas, certo? Qual era o problema disso? Se... Alguma pessoa que está estudando alguma dessas áreas, que fizesse um artigo, publicasse um artigo, o cara que estuda, pela parte de voz, ele não vai conseguir nem entender o artigo do maluco. O que significa? Significa que eram áreas diferentes que quase não se comunicavam, porque a linguagem era diferente. As coisas iam evoluindo individuamente, né? Individuamente, então. A da imagem tá aqui, mas essa evolução não significa que é... O que que aconteceu? Em 2017, o Google inventou uma parada chamada Transformer. O nome já começa, né? I am Optimus Prime. O que que ele fez? O Transformer. Ele pegou todas essas áreas diferentes de A que a galera estava trabalhando e unificou. É como se ele conseguisse transformar qualquer coisa em linguagem. Isso é muito importante, então ele vê que as palavras é uma linguagem, beleza? Pixels, imagem, é uma linguagem. Audio, waveform do áudio, é uma linguagem. DNA é uma linguagem. Você tem a química, tudo pode ser transformado em uma linguagem. Então, eles criaram uma parada que conseguia transformar tudo em uma linguagem. Essa coisa meio que unificou e qualquer grande parada disso. É que agora, qualquer tipo de progresso feito em uma área era compartilhado instantaneamente por todas as outras. E isso é um marco. Isso é um marco. Então, isso é o Transformer. Isso mudou tudo. E até aí, a parada é super positiva. Você foi pensar os avanços que isso pode trazer, sabe? A gente nem tá entrando ainda na parte alarmante da coisa. Isso é uma introdução ao conceito do Transformer. O Google, talvez, na melhor das intenções, falou, se a gente consegue, como que uma pessoa vai lá e aprende física? Ela precisa do básico, você precisa do básico, da linguagem, de como se comunicar. E o Google criou esse conceito. Então, em vez de fazer uma inteligência artificial que sabe só a física, se tivesse uma inteligência artificial que soubesse linguagens, ela conseguiria aprender tudo. Então, isso é ótimo se for pensado por um ponto de vista de avanço tecnológico. E como ela funciona? O ChatGPT, por exemplo, o Google publicou sobre isso. E aí, a galera do ChatGPT usou essa publicação, todo mundo usou essa publicação para começar a trabalhar nos seus modelos. E aí, vem o ChatGPT. O ChatGPT é treinado com tudo que tem de texto na internet até 2021. Tudo. São 570 GB, só artigos, livros digitalizados, postagem em blogs, Wikipedia. Eu vi o artigo original e vi a separação e os GBs, de som e os GBs. Então, ela foi treinada por meses e meses em um super computador. É meses e meses, mas como é um super computador? É o equivalente a como se ela tivesse sendo treinada por anos. Ela está 24 horas por lá. Uma fluidez enorme, né? Esses super computadores gastam uma energia absurda. É coisa quase de meio milhão por dia de energia elétrica. Caramba. O quê? E o que acontece? O ChatGPT recebeu uma parte da Microsoft. Inicialmente foi uma parte de um bilhão. O ChatGPT começou quando? Ele começou em 2018. Que a gente está na versão 4. Lembra? Então, o que aconteceu em 2017 foi esse modelo que revolucionou. Mas já estava com a usagem. Mas era uma versão de entrada. Era uma versão de entrada. O que o Google, o que o John Furrier-Hilton fala muito, é que o Google estava desenvolvendo isso de uma forma muito segura, fechada. Eu vou explicar isso, vai ser uma coisa que vai clicar para todo mundo. Vocês vão entender o problema. Esse momento que o Google cai da bunda. Está chegando, está chegando ainda. Está chegando nesse momento. Quando chegar, vocês vão entender. Mas então, ela é treinada. O ChatGPT foi meio assim. Então, eu imagino que em 2018, os caras criaram o ChatGPT. Pegarem esse algoritmo, deram uma mudada, o que o Google inventou, deram uma adaptada e criaram esse super computador. E começaram a treinar, jogar dados lá e deixa ela treinar. Como que ela é treinada? Vou tentar explicar. É muito complexo, mas vou tentar explicar. É como se a gente colocasse uma frase com várias palavras faltando. E um aluno precisa descobrir o que está escrito, mesmo com as frases faltando. Dá sentido aqui, não é mesmo? É, então, tipo, vai vir uma frase, mas vai ter algumas letras faltando. E aí, mesmo com as letras faltando, ele tem que conseguir ler o que está aqui do lado, certo? Do outro lado, a gente tem um professor que ele serve para avaliar essa resposta dando uma nota. Falando, não, isso aqui você cheia muito longe da resposta certa, zero. Não, isso aqui você quase acertou tudo, 99. Ele dá uma nota, e isso volta para o aluno. E ele tenta mais uma vez. E ele tenta mais uma vez, e agora, só que agora, ele usa aquela nota que o professor deu como base. A primeira resposta que ele dá é praticamente aleatória. Isso é importante. É aleatória. Ele simplesmente pega todas as palavras que ele tem lá no professor. É como se ele fizesse com pressa. É, eu... Comprei com pressa, é como se você tivesse fazendo um texto, só que ele está em russo. Tipo assim, o computador não sabe falar português, né? É. Então, é como se você estivesse fazendo esse experimento ao aluno, só que de uma língua que ele não sabe. Então, ele vai colocar lá, é essa letra, o professor vai falar, não. Ah, então, beleza. Ah, é, então, na próxima vez, eu sei que essa letra eu uso desse jeito. É estatística. Ele está tentando adivinhar qual a probabilidade da próxima palavra ser aquela que ele está escolhendo. E agora, imagina que existem palavras, por exemplo, que estão ligadas muito a outras palavras. Então, vamos dar um exemplo. Você pode ter a palavra guerra ligada a míssil, a conflito, certo? Você pode ter a palavra namoro ligada a amor, a afeto. Então, você tem palavras que normalmente aparecem juntas. O que que esse computador compreende? Com o tempo, e ele vai fazer bilhões e bilhões de vezes o processo, ele começa a identificar qual a probabilidade de, dado o contexto dessa palavra aqui, que, opa, é uma frase que tem guerra, então, é bem provável que seja míssil aqui. Ele é uma probabilidade mesmo, é matemática. E aí, ele, eu tenho a probabilidade de achar que é guerra, então, eu quero míssil, então, eu vou colocar míssil. Aí, ele manda para o professor. Aí, o professor vai, opa, essa vez você acertou. Ele, opa, então... Isso sendo feito bilhões e bilhões e bilhões de vezes. Chega uma hora que ele consegue saber exatamente o que vem depois por uma simples associação. Ele tem dados suficiente, algo que nós não conseguimos, a gente consegue lidar com essa quantidade de dados. Agora, ele consegue, e ele começa a dar sentido a isso. Então, começou assim, começou a ser treinado dessa forma. E aí, o que que aconteceu? Aconteceu que saiu do controle. Por agora, por agora, por agora. E aí, eu quero dar um exemplo, eu quero dar um exemplo prático para vocês entenderem como ele adivinha as coisas, e eu vou dar um exemplo prático funcionando na realidade. Eles fizeram um teste, isso é impressionante, cara. Eles fizeram um teste com ressonância magnética. Isso é muito louco. Eles pegaram uma pessoa, coloca numa máquina de ressonância magnética, e coloca uma imagem de uma girafa para a pessoa ver. Os dados que estão sendo gerados pela máquina de ressonância magnética, que basicamente a máquina está analisando o sangue movendo no seu cérebro. Então, ela está analisando essa movimentação do sangue. Ele pega esses dados e dá para uma inteligência social. Ela pega esses dados e eles tiram o input da girafa, fala a pouca, tira a imagem, o cara não está vendo mais a imagem, desliga. Agora, vamos ver se a inteligência social consegue pegar as informações geradas pela ressonância e recriar uma imagem. E ela consegue. Ela fez uma girafa muito parecida. Não é exatamente a mesma girafa, mas... É a girafa, é a girafa. É uma girafa no fundo com águores. Ela está diferente, ela está mais azul. Ela está um pouquinho diferente, mas é uma girafa. E aí depois, outro laboratório fez um outro teste que é ainda mais impressionante. Aí eles perguntaram, beleza, então a gente consegue ver a girafa e ela consegue recriar a girafa. Então, vamos fazer um teste. Eles pegaram, colocaram um vídeo para a pessoa assistir. O vídeo era uma mulher recebendo um golpe na nuca e caindo no chão. É tipo um desenho, né? É uma animação 3D. Não era um vídeo real, era uma animação. Tomava um golpe, sendo uma coisa batida na cabeça dela. E aí, pede para a pessoa assistir esse vídeo algumas vezes, coloca ela na máquina de ressonância. Agora faz o seguinte, pensa no vídeo. Aí a pessoa pensa no vídeo. A inteligência pega as informações, lembra que ela criou um padrão antes? Porque ela conseguiu recriar... Então, ela criou uma associação de... Opa, essa movimentação de sangue significa isso daqui. O que eles pediram? Pediram para o cara pensar no vídeo, a pessoa era uma mulher, pensar no vídeo, ela pensou no vídeo. E a inteligência artificial consegue traduzir aquilo em uma frase. É ele traduziu. Estou vendo uma mulher recebendo um golpe na nuca e ela cai no chão de forma violenta. Ela traduziu a linguagem da ressonância, ou seja, do sangue se movendo em nosso sério. Tá, essa porra lê pensamento. Exatamente. Se você pensar. Se você pensar. Nossa, aí, aí, aí. Então, se você pensar, que tudo... Que tudo... Não, se você pensar que tudo no mundo... Não, aí, aí, aí, aí, aí. Tudo no mundo da linguagem. Tudo no mundo da linguagem. O que divide a gente do um pato, do um gorila? É porque a gente sabe usar linguagens para se comunicar, interpretar e assim que a gente está tentando desvendar os mistérios do universo, assim que a gente aprendeu ciência, matemática, física. Tudo a linguagem. A maneira... O médico já consegue te colocar numa máquina e saber se você está com câncer, se você precisa de transversão de sangue. A gente já tem essas informações. A máquina está aprendendo, sendo calibrada, para aprender a traduzir isso, porque no fundo tudo é linguagem. Então, coisas que a gente... A gente está num estágio da inteligência artificial, em que a gente precisa operar ela e tudo. E que a gente... Eu sei que muitas das pessoas assistindo estão falando assim, tá, mas, gente, dá para perceber quando a inteligência artificial, a gente está olhando a imagem, está olhando tudo. Quando vai no mid-journey, o uso... Eu acho que é embrionário, é parado, né? Então, o bagulho está muito no começo. A gente está falando que muito em breve e de um jeito rápido demais, até para prever, elas vão começar a fazer melhor do que a gente. E coisas que a gente também não é capaz. A gente também é capaz de olhar um impulso eletromagnético no cérebro e falar o que é. Mas como é dado, treinado, a máquina já está conseguindo fazer isso. Ela pega o cara, imagina o negócio, e a máquina consegue já interpretar isso, porque ela tem uma capacidade de processamento de dados, principalmente para tarefas específicas, para que a gente não tenha, nenhum ser humano consegue. Ela está identificando o padrão. É só o que ela faz. Ela identifica um padrão. Só que, como ela faz... O mogodá, ele trabalhava numa parte do Google, que era que eles tinham um projeto de um abraço mecânico. E o projeto dos caras era conseguir fazer o braço pegar a bola amarela. Vê você falando no vídeo, senão... Só que, sem operar, por conta própria, o braço consiga. O braço está aí, a bola também está aí. Ninguém colocou no computador, ela vai fazer esse movimento, a máquina fazia movimentos aleatórios para tentar eventualmente conseguir pegar um objeto. E por que eles fizeram isso? Eu não percebeu que, em fábricas, por exemplo, se você, às vezes, move uma fábrica de caos, por exemplo, se você move a chapa de metal que ela precisa pegar um milímetro para o lado, já buga a máquina. Ela não consegue mais pegar. Tem que estar... Então eles querem, eu pensava, como a gente pode fazer ela entender quando sai do lugar? E a resposta é simples, com inteligência. E aí, eles começaram a testar. E testar, e não dava certo, e não dava certo, até que um belo dia, o cara foi lá e viu que ela estava conseguindo pegar a bola, mostrar para a câmera, pegar a bola. Isso não... Abre, não, deixa eu te cortar. Isso não é mágica, tá ligado? Às vezes, pode parecer um conceito meio fantasioso, assim, como ela conseguiu pegar a bola. Não, ela foi programada para tentar um milhão de vezes, e aí tem aquela história. Foi se condicionar a isso, né? Tem até uma brincadeira antiga que se fala sobre probabilidades infinitas, que é se você der um piano para um chimpanzee, der tempo infinito para ele, e ele fica batendo aleatoriamente, uma hora ele vai tocar a quinta sifania de Beethoven, não é porque ele aprendeu, é porque em algum momento vai dar essa sequência certinha, entendeu? Então a máquina não é que ela está tipo, nossa, como que ela aprendeu? É tentativa e erro. E a comparação que ele faz nesse exemplo, é uma comparação, até porque eles estão tentando emular realmente a inteligência, é uma questão que, quando você é criança, e você está fazendo um brinquedinho lá, aquele brinquedo onde você pega a caixinha, que tem vários buracos vazados em formatos assim, aí a criança está tentando enfiar a estrelinha na bolinha, não entra. Quando entra na estrelinha, ela tem a confirmação, e esse é um processo de aprendizado de tentativa e erro. A gente também aprende assim, ninguém nasce sabendo nada, até para andar, quando você é um pirralho, você cai, cai, cai, até você falar, ah, é assim que anda, e esse é o processo dessa máquina, ela não foi programada para pegar a bola, eles deram esse objetivo. Só que ela está aprendendo muito rápido. Só que ela está aprendendo. Não, essa máquina era primitiva, ela era um protótipo. Então, mas essa é a parada, esse é o ponto que você falou. O que assustou o Mogodá, e ele fala no podcast que isso foi, o que fez ele perceber que isso ia sair do controle, e o que fez ele sair do Google. Que foi quando, foi uma sexta-feira, ele chegou, ele viu lá, e estava pegando, e finalmente eles conseguiram, e é isso, estatística, depois de um bilhão de tentativas, eventualmente ele conseguiu. O problema é que depois de uma semana, todas os braços já estavam conseguindo pegar, e aí depois de mais um mês, eles não estavam só conseguindo pegar a bola, estavam conseguindo pegar várias coisas. E a velocidade com que essa progressão de aprendizagem se aconteceu, foi o que assustou ele.\n"
     ]
    }
   ],
   "source": [
    "# Transcrever audio\n",
    "to = transcribe_audio(model,audio_file_path)"
   ]
  },
  {
   "cell_type": "markdown",
   "metadata": {},
   "source": [
    "## Persistir os dados para consumo"
   ]
  },
  {
   "cell_type": "code",
   "execution_count": 16,
   "metadata": {},
   "outputs": [],
   "source": [
    "import pickle as pkl\n",
    "\n",
    "with open('./bot/data/transcription.pkl', '+wb') as file:\n",
    "    pkl.dump(to, file)"
   ]
  }
 ],
 "metadata": {
  "kernelspec": {
   "display_name": ".venv",
   "language": "python",
   "name": "python3"
  },
  "language_info": {
   "codemirror_mode": {
    "name": "ipython",
    "version": 3
   },
   "file_extension": ".py",
   "mimetype": "text/x-python",
   "name": "python",
   "nbconvert_exporter": "python",
   "pygments_lexer": "ipython3",
   "version": "3.10.12"
  }
 },
 "nbformat": 4,
 "nbformat_minor": 2
}
